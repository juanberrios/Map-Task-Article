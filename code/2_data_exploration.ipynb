{
 "cells": [
  {
   "cell_type": "markdown",
   "metadata": {},
   "source": [
    "# 2. Exploration"
   ]
  },
  {
   "cell_type": "markdown",
   "metadata": {},
   "source": [
    "Juan Berrios | jb25@csufresno.edu | Last updated: April 3, 2025"
   ]
  },
  {
   "cell_type": "markdown",
   "metadata": {},
   "source": [
    "**Summary and overview of the data:**"
   ]
  },
  {
   "cell_type": "markdown",
   "metadata": {},
   "source": [
    "- The purpose of this project is to do an analysis of the results of a map task being piloted for a study on code-switching. This pilot was conducted using only one language, either English or Spanish. In this second notebook I keep processing the data and extracting relevant features using NLP techniques to conduct an exploratory analysis. "
   ]
  },
  {
   "cell_type": "markdown",
   "metadata": {},
   "source": [
    "**Contents:**\n",
    "\n",
    "1. [Preparations](#1.-Preparations): includes the necessary preparations, including importing libraries and loading files.\n",
    "2. [Extracting information](#2.-Extracting-information): extracting the features of interest using NLTK.\n",
    "3. [Descriptive analysis](#3.-Descriptive-analysis): a description of results as tallied by language, session, and participant.\n",
    "4. [Summary](#4.-Summary): a summary of the results with a focus on linguistic features."
   ]
  },
  {
   "cell_type": "markdown",
   "metadata": {},
   "source": [
    "## 1. Preparations"
   ]
  },
  {
   "cell_type": "code",
   "execution_count": 1,
   "metadata": {},
   "outputs": [
    {
     "name": "stdout",
     "output_type": "stream",
     "text": [
      "Pretty printing has been turned OFF\n"
     ]
    }
   ],
   "source": [
    "#Importing libraries\n",
    "import pandas as pd\n",
    "import numpy as np\n",
    "import pickle, nltk\n",
    "import os\n",
    "from matplotlib import pyplot as plt\n",
    "import seaborn as sns\n",
    "\n",
    "#seaborn settings\n",
    "sns.set(font_scale=2)\n",
    "sns.set_style(\"whitegrid\")\n",
    "\n",
    "#Releasing all output:                                            \n",
    "from IPython.core.interactiveshell import InteractiveShell #Prints all commands rather than the last one.\n",
    "InteractiveShell.ast_node_interactivity = \"all\"\n",
    "\n",
    "#Turning pretty print off:\n",
    "%pprint"
   ]
  },
  {
   "cell_type": "code",
   "execution_count": 2,
   "metadata": {},
   "outputs": [
    {
     "data": {
      "text/plain": [
       "(2525, 5)"
      ]
     },
     "execution_count": 2,
     "metadata": {},
     "output_type": "execute_result"
    }
   ],
   "source": [
    "#Loading files\n",
    "\n",
    "df = pd.read_excel('../spreadsheets/df.xlsx')\n",
    "df.shape"
   ]
  },
  {
   "cell_type": "code",
   "execution_count": 3,
   "metadata": {},
   "outputs": [
    {
     "data": {
      "text/plain": [
       "(2223, 5)"
      ]
     },
     "execution_count": 3,
     "metadata": {},
     "output_type": "execute_result"
    }
   ],
   "source": [
    "#Remove incomplete sessions (two and fifteen)\n",
    "\n",
    "df = df.loc[df['session'] != 'two']\n",
    "df = df.loc[df['session'] != 'fifteen']\n",
    "df.reset_index(drop=True, inplace=True) #resetting index\n",
    "df.shape"
   ]
  },
  {
   "cell_type": "code",
   "execution_count": 4,
   "metadata": {},
   "outputs": [],
   "source": [
    "#Saving files\n",
    "\n",
    "df.to_excel(\"../spreadsheets/df_edited.xlsx\", index=False) #Saving as spreadsheet file\n",
    "df.to_pickle('../pkl/df_edited.pkl')                       #Pickling"
   ]
  },
  {
   "cell_type": "markdown",
   "metadata": {},
   "source": [
    "## 2. Extracting information"
   ]
  },
  {
   "cell_type": "code",
   "execution_count": 5,
   "metadata": {},
   "outputs": [
    {
     "data": {
      "text/plain": [
       "20"
      ]
     },
     "execution_count": 5,
     "metadata": {},
     "output_type": "execute_result"
    }
   ],
   "source": [
    "#Current nuber of sessions\n",
    "\n",
    "len(set(df['session']))"
   ]
  },
  {
   "cell_type": "code",
   "execution_count": 6,
   "metadata": {},
   "outputs": [
    {
     "data": {
      "text/html": [
       "<div>\n",
       "<style scoped>\n",
       "    .dataframe tbody tr th:only-of-type {\n",
       "        vertical-align: middle;\n",
       "    }\n",
       "\n",
       "    .dataframe tbody tr th {\n",
       "        vertical-align: top;\n",
       "    }\n",
       "\n",
       "    .dataframe thead th {\n",
       "        text-align: right;\n",
       "    }\n",
       "</style>\n",
       "<table border=\"1\" class=\"dataframe\">\n",
       "  <thead>\n",
       "    <tr style=\"text-align: right;\">\n",
       "      <th></th>\n",
       "      <th>turn</th>\n",
       "      <th>time</th>\n",
       "      <th>participant</th>\n",
       "      <th>language</th>\n",
       "      <th>session</th>\n",
       "    </tr>\n",
       "  </thead>\n",
       "  <tbody>\n",
       "    <tr>\n",
       "      <th>0</th>\n",
       "      <td>Start behind the surfer with the board overhead</td>\n",
       "      <td>9:48:23 pm</td>\n",
       "      <td>A1</td>\n",
       "      <td>English</td>\n",
       "      <td>one</td>\n",
       "    </tr>\n",
       "    <tr>\n",
       "      <th>1</th>\n",
       "      <td>Curve around the surfer’s feet</td>\n",
       "      <td>9:48:23 pm</td>\n",
       "      <td>A1</td>\n",
       "      <td>English</td>\n",
       "      <td>one</td>\n",
       "    </tr>\n",
       "    <tr>\n",
       "      <th>2</th>\n",
       "      <td>Then go towards the water at a slight angle, e...</td>\n",
       "      <td>9:48:23 pm</td>\n",
       "      <td>A1</td>\n",
       "      <td>English</td>\n",
       "      <td>one</td>\n",
       "    </tr>\n",
       "    <tr>\n",
       "      <th>3</th>\n",
       "      <td>Should I stop at the waters edge?</td>\n",
       "      <td>9:50:02 pm</td>\n",
       "      <td>B1</td>\n",
       "      <td>English</td>\n",
       "      <td>one</td>\n",
       "    </tr>\n",
       "    <tr>\n",
       "      <th>4</th>\n",
       "      <td>Nope</td>\n",
       "      <td>9:50:09 pm</td>\n",
       "      <td>A1</td>\n",
       "      <td>English</td>\n",
       "      <td>one</td>\n",
       "    </tr>\n",
       "    <tr>\n",
       "      <th>5</th>\n",
       "      <td>Slight curve to the blue water. At the level o...</td>\n",
       "      <td>9:50:09 pm</td>\n",
       "      <td>A1</td>\n",
       "      <td>English</td>\n",
       "      <td>one</td>\n",
       "    </tr>\n",
       "    <tr>\n",
       "      <th>6</th>\n",
       "      <td>Yinz got it, neat?</td>\n",
       "      <td>9:51:14 pm</td>\n",
       "      <td>A1</td>\n",
       "      <td>English</td>\n",
       "      <td>one</td>\n",
       "    </tr>\n",
       "    <tr>\n",
       "      <th>7</th>\n",
       "      <td>*n’at</td>\n",
       "      <td>9:51:14 pm</td>\n",
       "      <td>A1</td>\n",
       "      <td>English</td>\n",
       "      <td>one</td>\n",
       "    </tr>\n",
       "    <tr>\n",
       "      <th>8</th>\n",
       "      <td>Reddy for the next steps n’at?</td>\n",
       "      <td>9:51:14 pm</td>\n",
       "      <td>A1</td>\n",
       "      <td>English</td>\n",
       "      <td>one</td>\n",
       "    </tr>\n",
       "    <tr>\n",
       "      <th>9</th>\n",
       "      <td>I'm in front of the pink dolphin</td>\n",
       "      <td>9:51:38 pm</td>\n",
       "      <td>B1</td>\n",
       "      <td>English</td>\n",
       "      <td>one</td>\n",
       "    </tr>\n",
       "  </tbody>\n",
       "</table>\n",
       "</div>"
      ],
      "text/plain": [
       "                                                turn        time participant  \\\n",
       "0    Start behind the surfer with the board overhead  9:48:23 pm          A1   \n",
       "1                     Curve around the surfer’s feet  9:48:23 pm          A1   \n",
       "2  Then go towards the water at a slight angle, e...  9:48:23 pm          A1   \n",
       "3                  Should I stop at the waters edge?  9:50:02 pm          B1   \n",
       "4                                               Nope  9:50:09 pm          A1   \n",
       "5  Slight curve to the blue water. At the level o...  9:50:09 pm          A1   \n",
       "6                                 Yinz got it, neat?  9:51:14 pm          A1   \n",
       "7                                              *n’at  9:51:14 pm          A1   \n",
       "8                     Reddy for the next steps n’at?  9:51:14 pm          A1   \n",
       "9                   I'm in front of the pink dolphin  9:51:38 pm          B1   \n",
       "\n",
       "  language session  \n",
       "0  English     one  \n",
       "1  English     one  \n",
       "2  English     one  \n",
       "3  English     one  \n",
       "4  English     one  \n",
       "5  English     one  \n",
       "6  English     one  \n",
       "7  English     one  \n",
       "8  English     one  \n",
       "9  English     one  "
      ]
     },
     "execution_count": 6,
     "metadata": {},
     "output_type": "execute_result"
    }
   ],
   "source": [
    "#A reminder of what the data look like\n",
    "\n",
    "df.head(10) "
   ]
  },
  {
   "cell_type": "code",
   "execution_count": 7,
   "metadata": {},
   "outputs": [
    {
     "data": {
      "text/plain": [
       "'Start behind the surfer with the board overhead'"
      ]
     },
     "execution_count": 7,
     "metadata": {},
     "output_type": "execute_result"
    }
   ],
   "source": [
    "#What the very first turn looks like. \n",
    "\n",
    "df['turn'].iloc[0] "
   ]
  },
  {
   "cell_type": "markdown",
   "metadata": {},
   "source": [
    "- To start operations on the whole data frame let's first lowercase the turn column (where necessary): "
   ]
  },
  {
   "cell_type": "code",
   "execution_count": 8,
   "metadata": {},
   "outputs": [],
   "source": [
    "df['turn'] = df['turn'].map(lambda x: x.lower())"
   ]
  },
  {
   "cell_type": "code",
   "execution_count": 9,
   "metadata": {
    "scrolled": true
   },
   "outputs": [
    {
     "data": {
      "text/plain": [
       "437     oh wait is it just those two? i've only got tw...\n",
       "494                            i stopped left of his face\n",
       "40                                              good you?\n",
       "1894                                          hallo hallo\n",
       "1129                 end at the grassy area at end of log\n",
       "1310    but above the rock formation that is in the water\n",
       "1422                                                    k\n",
       "2182    iniciaremos en el árbol más cercano a la camin...\n",
       "1079                                              ok done\n",
       "689     y ya cruzas el tronco marrón oscuro hacia la o...\n",
       "Name: turn, dtype: object"
      ]
     },
     "execution_count": 9,
     "metadata": {},
     "output_type": "execute_result"
    }
   ],
   "source": [
    "df['turn'].sample(10) #Sample. Looks good"
   ]
  },
  {
   "cell_type": "markdown",
   "metadata": {},
   "source": [
    "- Now tokenizing. Note that here we're tokenizing without making a distinction for language. Which is OK for a preliminary analysis, but we'll be addressed when condunting a detailed analysis:"
   ]
  },
  {
   "cell_type": "code",
   "execution_count": 10,
   "metadata": {},
   "outputs": [],
   "source": [
    "toks = df['turn'].map(nltk.word_tokenize) "
   ]
  },
  {
   "cell_type": "code",
   "execution_count": 11,
   "metadata": {},
   "outputs": [
    {
     "data": {
      "text/plain": [
       "<class 'pandas.core.series.Series'>"
      ]
     },
     "execution_count": 11,
     "metadata": {},
     "output_type": "execute_result"
    },
    {
     "data": {
      "text/plain": [
       "0    [start, behind, the, surfer, with, the, board,...\n",
       "1             [curve, around, the, surfer, ’, s, feet]\n",
       "2    [then, go, towards, the, water, at, a, slight,...\n",
       "3          [should, i, stop, at, the, waters, edge, ?]\n",
       "4                                               [nope]\n",
       "5    [slight, curve, to, the, blue, water, ., at, t...\n",
       "6                          [yinz, got, it, ,, neat, ?]\n",
       "7                                        [*, n, ’, at]\n",
       "8          [reddy, for, the, next, steps, n, ’, at, ?]\n",
       "9           [i, 'm, in, front, of, the, pink, dolphin]\n",
       "Name: turn, dtype: object"
      ]
     },
     "execution_count": 11,
     "metadata": {},
     "output_type": "execute_result"
    }
   ],
   "source": [
    "type(toks)\n",
    "toks[:10] #sample"
   ]
  },
  {
   "cell_type": "code",
   "execution_count": 12,
   "metadata": {},
   "outputs": [],
   "source": [
    "#Saving tokens as an individual object\n",
    "\n",
    "df['tokens'] = toks "
   ]
  },
  {
   "cell_type": "code",
   "execution_count": 13,
   "metadata": {},
   "outputs": [
    {
     "data": {
      "text/html": [
       "<div>\n",
       "<style scoped>\n",
       "    .dataframe tbody tr th:only-of-type {\n",
       "        vertical-align: middle;\n",
       "    }\n",
       "\n",
       "    .dataframe tbody tr th {\n",
       "        vertical-align: top;\n",
       "    }\n",
       "\n",
       "    .dataframe thead th {\n",
       "        text-align: right;\n",
       "    }\n",
       "</style>\n",
       "<table border=\"1\" class=\"dataframe\">\n",
       "  <thead>\n",
       "    <tr style=\"text-align: right;\">\n",
       "      <th></th>\n",
       "      <th>turn</th>\n",
       "      <th>tokens</th>\n",
       "    </tr>\n",
       "  </thead>\n",
       "  <tbody>\n",
       "    <tr>\n",
       "      <th>1210</th>\n",
       "      <td>okay so now you're going to turn again and hea...</td>\n",
       "      <td>[okay, so, now, you, 're, going, to, turn, aga...</td>\n",
       "    </tr>\n",
       "    <tr>\n",
       "      <th>706</th>\n",
       "      <td>sal de la boca del cocodrilo por encima de la ...</td>\n",
       "      <td>[sal, de, la, boca, del, cocodrilo, por, encim...</td>\n",
       "    </tr>\n",
       "    <tr>\n",
       "      <th>564</th>\n",
       "      <td>la piedra grande no?</td>\n",
       "      <td>[la, piedra, grande, no, ?]</td>\n",
       "    </tr>\n",
       "    <tr>\n",
       "      <th>543</th>\n",
       "      <td>ok</td>\n",
       "      <td>[ok]</td>\n",
       "    </tr>\n",
       "    <tr>\n",
       "      <th>636</th>\n",
       "      <td>y de ahí tiras hacia arriba hacia la tienda de...</td>\n",
       "      <td>[y, de, ahí, tiras, hacia, arriba, hacia, la, ...</td>\n",
       "    </tr>\n",
       "    <tr>\n",
       "      <th>530</th>\n",
       "      <td>go down and under their feet arching over the ...</td>\n",
       "      <td>[go, down, and, under, their, feet, arching, o...</td>\n",
       "    </tr>\n",
       "    <tr>\n",
       "      <th>522</th>\n",
       "      <td>you will end there before the bridge to the is...</td>\n",
       "      <td>[you, will, end, there, before, the, bridge, t...</td>\n",
       "    </tr>\n",
       "    <tr>\n",
       "      <th>799</th>\n",
       "      <td>vale, r1, vas a empezar un poco encima de la c...</td>\n",
       "      <td>[vale, ,, r1, ,, vas, a, empezar, un, poco, en...</td>\n",
       "    </tr>\n",
       "    <tr>\n",
       "      <th>2133</th>\n",
       "      <td>???</td>\n",
       "      <td>[?, ?, ?]</td>\n",
       "    </tr>\n",
       "    <tr>\n",
       "      <th>257</th>\n",
       "      <td>when you get just beyond the left of the lobst...</td>\n",
       "      <td>[when, you, get, just, beyond, the, left, of, ...</td>\n",
       "    </tr>\n",
       "  </tbody>\n",
       "</table>\n",
       "</div>"
      ],
      "text/plain": [
       "                                                   turn  \\\n",
       "1210  okay so now you're going to turn again and hea...   \n",
       "706   sal de la boca del cocodrilo por encima de la ...   \n",
       "564                                la piedra grande no?   \n",
       "543                                                  ok   \n",
       "636   y de ahí tiras hacia arriba hacia la tienda de...   \n",
       "530   go down and under their feet arching over the ...   \n",
       "522   you will end there before the bridge to the is...   \n",
       "799   vale, r1, vas a empezar un poco encima de la c...   \n",
       "2133                                                ???   \n",
       "257   when you get just beyond the left of the lobst...   \n",
       "\n",
       "                                                 tokens  \n",
       "1210  [okay, so, now, you, 're, going, to, turn, aga...  \n",
       "706   [sal, de, la, boca, del, cocodrilo, por, encim...  \n",
       "564                         [la, piedra, grande, no, ?]  \n",
       "543                                                [ok]  \n",
       "636   [y, de, ahí, tiras, hacia, arriba, hacia, la, ...  \n",
       "530   [go, down, and, under, their, feet, arching, o...  \n",
       "522   [you, will, end, there, before, the, bridge, t...  \n",
       "799   [vale, ,, r1, ,, vas, a, empezar, un, poco, en...  \n",
       "2133                                          [?, ?, ?]  \n",
       "257   [when, you, get, just, beyond, the, left, of, ...  "
      ]
     },
     "execution_count": 13,
     "metadata": {},
     "output_type": "execute_result"
    }
   ],
   "source": [
    "#A sample of the columns of interest. Looks good.\n",
    "\n",
    "df[[\"turn\", \"tokens\"]].sample(10) "
   ]
  },
  {
   "cell_type": "code",
   "execution_count": 14,
   "metadata": {},
   "outputs": [],
   "source": [
    "#Number of tokens per turn\n",
    "\n",
    "df['token_count'] = df['tokens'].map(len) "
   ]
  },
  {
   "cell_type": "code",
   "execution_count": 15,
   "metadata": {},
   "outputs": [
    {
     "data": {
      "text/html": [
       "<div>\n",
       "<style scoped>\n",
       "    .dataframe tbody tr th:only-of-type {\n",
       "        vertical-align: middle;\n",
       "    }\n",
       "\n",
       "    .dataframe tbody tr th {\n",
       "        vertical-align: top;\n",
       "    }\n",
       "\n",
       "    .dataframe thead th {\n",
       "        text-align: right;\n",
       "    }\n",
       "</style>\n",
       "<table border=\"1\" class=\"dataframe\">\n",
       "  <thead>\n",
       "    <tr style=\"text-align: right;\">\n",
       "      <th></th>\n",
       "      <th>turn</th>\n",
       "      <th>tokens</th>\n",
       "      <th>token_count</th>\n",
       "    </tr>\n",
       "  </thead>\n",
       "  <tbody>\n",
       "    <tr>\n",
       "      <th>580</th>\n",
       "      <td>es decir, nada es completamente recto sino com...</td>\n",
       "      <td>[es, decir, ,, nada, es, completamente, recto,...</td>\n",
       "      <td>15</td>\n",
       "    </tr>\n",
       "    <tr>\n",
       "      <th>573</th>\n",
       "      <td>de ahí</td>\n",
       "      <td>[de, ahí]</td>\n",
       "      <td>2</td>\n",
       "    </tr>\n",
       "    <tr>\n",
       "      <th>726</th>\n",
       "      <td>ajá</td>\n",
       "      <td>[ajá]</td>\n",
       "      <td>1</td>\n",
       "    </tr>\n",
       "    <tr>\n",
       "      <th>314</th>\n",
       "      <td>and smaller cacti to its se</td>\n",
       "      <td>[and, smaller, cacti, to, its, se]</td>\n",
       "      <td>6</td>\n",
       "    </tr>\n",
       "    <tr>\n",
       "      <th>967</th>\n",
       "      <td>stop before you reach the blue hat.</td>\n",
       "      <td>[stop, before, you, reach, the, blue, hat, .]</td>\n",
       "      <td>8</td>\n",
       "    </tr>\n",
       "    <tr>\n",
       "      <th>1878</th>\n",
       "      <td>pasa entre el caballo y el cactus q esta mas a...</td>\n",
       "      <td>[pasa, entre, el, caballo, y, el, cactus, q, e...</td>\n",
       "      <td>11</td>\n",
       "    </tr>\n",
       "    <tr>\n",
       "      <th>1000</th>\n",
       "      <td>there</td>\n",
       "      <td>[there]</td>\n",
       "      <td>1</td>\n",
       "    </tr>\n",
       "    <tr>\n",
       "      <th>1606</th>\n",
       "      <td>el de arriba o el de abajo</td>\n",
       "      <td>[el, de, arriba, o, el, de, abajo]</td>\n",
       "      <td>7</td>\n",
       "    </tr>\n",
       "    <tr>\n",
       "      <th>946</th>\n",
       "      <td>done</td>\n",
       "      <td>[done]</td>\n",
       "      <td>1</td>\n",
       "    </tr>\n",
       "    <tr>\n",
       "      <th>1704</th>\n",
       "      <td>ok</td>\n",
       "      <td>[ok]</td>\n",
       "      <td>1</td>\n",
       "    </tr>\n",
       "  </tbody>\n",
       "</table>\n",
       "</div>"
      ],
      "text/plain": [
       "                                                   turn  \\\n",
       "580   es decir, nada es completamente recto sino com...   \n",
       "573                                              de ahí   \n",
       "726                                                 ajá   \n",
       "314                         and smaller cacti to its se   \n",
       "967                 stop before you reach the blue hat.   \n",
       "1878  pasa entre el caballo y el cactus q esta mas a...   \n",
       "1000                                              there   \n",
       "1606                         el de arriba o el de abajo   \n",
       "946                                                done   \n",
       "1704                                                 ok   \n",
       "\n",
       "                                                 tokens  token_count  \n",
       "580   [es, decir, ,, nada, es, completamente, recto,...           15  \n",
       "573                                           [de, ahí]            2  \n",
       "726                                               [ajá]            1  \n",
       "314                  [and, smaller, cacti, to, its, se]            6  \n",
       "967       [stop, before, you, reach, the, blue, hat, .]            8  \n",
       "1878  [pasa, entre, el, caballo, y, el, cactus, q, e...           11  \n",
       "1000                                            [there]            1  \n",
       "1606                 [el, de, arriba, o, el, de, abajo]            7  \n",
       "946                                              [done]            1  \n",
       "1704                                               [ok]            1  "
      ]
     },
     "execution_count": 15,
     "metadata": {},
     "output_type": "execute_result"
    }
   ],
   "source": [
    " #A sample\n",
    "    \n",
    "df[[\"turn\", \"tokens\", \"token_count\"]].sample(10)"
   ]
  },
  {
   "cell_type": "code",
   "execution_count": 16,
   "metadata": {},
   "outputs": [],
   "source": [
    "#Number of types per turn\n",
    "    \n",
    "df['type_count'] = df['tokens'].apply(lambda x: len(set(x)))"
   ]
  },
  {
   "cell_type": "code",
   "execution_count": 17,
   "metadata": {
    "scrolled": true
   },
   "outputs": [
    {
     "data": {
      "text/html": [
       "<div>\n",
       "<style scoped>\n",
       "    .dataframe tbody tr th:only-of-type {\n",
       "        vertical-align: middle;\n",
       "    }\n",
       "\n",
       "    .dataframe tbody tr th {\n",
       "        vertical-align: top;\n",
       "    }\n",
       "\n",
       "    .dataframe thead th {\n",
       "        text-align: right;\n",
       "    }\n",
       "</style>\n",
       "<table border=\"1\" class=\"dataframe\">\n",
       "  <thead>\n",
       "    <tr style=\"text-align: right;\">\n",
       "      <th></th>\n",
       "      <th>turn</th>\n",
       "      <th>tokens</th>\n",
       "      <th>type_count</th>\n",
       "    </tr>\n",
       "  </thead>\n",
       "  <tbody>\n",
       "    <tr>\n",
       "      <th>2164</th>\n",
       "      <td>ok</td>\n",
       "      <td>[ok]</td>\n",
       "      <td>1</td>\n",
       "    </tr>\n",
       "    <tr>\n",
       "      <th>482</th>\n",
       "      <td>the make an arc around both the lobster and th...</td>\n",
       "      <td>[the, make, an, arc, around, both, the, lobste...</td>\n",
       "      <td>12</td>\n",
       "    </tr>\n",
       "    <tr>\n",
       "      <th>240</th>\n",
       "      <td>keep going in that line and move to the left (...</td>\n",
       "      <td>[keep, going, in, that, line, and, move, to, t...</td>\n",
       "      <td>18</td>\n",
       "    </tr>\n",
       "    <tr>\n",
       "      <th>1925</th>\n",
       "      <td>ok</td>\n",
       "      <td>[ok]</td>\n",
       "      <td>1</td>\n",
       "    </tr>\n",
       "    <tr>\n",
       "      <th>1691</th>\n",
       "      <td>la equis está al lado de la canoa</td>\n",
       "      <td>[la, equis, está, al, lado, de, la, canoa]</td>\n",
       "      <td>7</td>\n",
       "    </tr>\n",
       "    <tr>\n",
       "      <th>581</th>\n",
       "      <td>bueno, a ver qué sale</td>\n",
       "      <td>[bueno, ,, a, ver, qué, sale]</td>\n",
       "      <td>6</td>\n",
       "    </tr>\n",
       "    <tr>\n",
       "      <th>956</th>\n",
       "      <td>go straight and also pass underneath the lobster</td>\n",
       "      <td>[go, straight, and, also, pass, underneath, th...</td>\n",
       "      <td>8</td>\n",
       "    </tr>\n",
       "    <tr>\n",
       "      <th>1395</th>\n",
       "      <td>pass the guitar on your right</td>\n",
       "      <td>[pass, the, guitar, on, your, right]</td>\n",
       "      <td>6</td>\n",
       "    </tr>\n",
       "    <tr>\n",
       "      <th>1428</th>\n",
       "      <td>loop around the lower 2 sage brushes</td>\n",
       "      <td>[loop, around, the, lower, 2, sage, brushes]</td>\n",
       "      <td>7</td>\n",
       "    </tr>\n",
       "    <tr>\n",
       "      <th>1299</th>\n",
       "      <td>move to the left, travel along the left side o...</td>\n",
       "      <td>[move, to, the, left, ,, travel, along, the, l...</td>\n",
       "      <td>14</td>\n",
       "    </tr>\n",
       "  </tbody>\n",
       "</table>\n",
       "</div>"
      ],
      "text/plain": [
       "                                                   turn  \\\n",
       "2164                                                 ok   \n",
       "482   the make an arc around both the lobster and th...   \n",
       "240   keep going in that line and move to the left (...   \n",
       "1925                                                 ok   \n",
       "1691                  la equis está al lado de la canoa   \n",
       "581                               bueno, a ver qué sale   \n",
       "956    go straight and also pass underneath the lobster   \n",
       "1395                      pass the guitar on your right   \n",
       "1428               loop around the lower 2 sage brushes   \n",
       "1299  move to the left, travel along the left side o...   \n",
       "\n",
       "                                                 tokens  type_count  \n",
       "2164                                               [ok]           1  \n",
       "482   [the, make, an, arc, around, both, the, lobste...          12  \n",
       "240   [keep, going, in, that, line, and, move, to, t...          18  \n",
       "1925                                               [ok]           1  \n",
       "1691         [la, equis, está, al, lado, de, la, canoa]           7  \n",
       "581                       [bueno, ,, a, ver, qué, sale]           6  \n",
       "956   [go, straight, and, also, pass, underneath, th...           8  \n",
       "1395               [pass, the, guitar, on, your, right]           6  \n",
       "1428       [loop, around, the, lower, 2, sage, brushes]           7  \n",
       "1299  [move, to, the, left, ,, travel, along, the, l...          14  "
      ]
     },
     "execution_count": 17,
     "metadata": {},
     "output_type": "execute_result"
    }
   ],
   "source": [
    "#A sample\n",
    "\n",
    "df[[\"turn\", \"tokens\", \"type_count\"]].sample(10) #A sample. "
   ]
  },
  {
   "cell_type": "markdown",
   "metadata": {},
   "source": [
    "- Lastly frequency distributions for each row:"
   ]
  },
  {
   "cell_type": "code",
   "execution_count": 18,
   "metadata": {},
   "outputs": [],
   "source": [
    "df['freq_dist'] = df.tokens.map(nltk.FreqDist) "
   ]
  },
  {
   "cell_type": "code",
   "execution_count": 19,
   "metadata": {},
   "outputs": [
    {
     "data": {
      "text/html": [
       "<div>\n",
       "<style scoped>\n",
       "    .dataframe tbody tr th:only-of-type {\n",
       "        vertical-align: middle;\n",
       "    }\n",
       "\n",
       "    .dataframe tbody tr th {\n",
       "        vertical-align: top;\n",
       "    }\n",
       "\n",
       "    .dataframe thead th {\n",
       "        text-align: right;\n",
       "    }\n",
       "</style>\n",
       "<table border=\"1\" class=\"dataframe\">\n",
       "  <thead>\n",
       "    <tr style=\"text-align: right;\">\n",
       "      <th></th>\n",
       "      <th>turn</th>\n",
       "      <th>tokens</th>\n",
       "      <th>freq_dist</th>\n",
       "    </tr>\n",
       "  </thead>\n",
       "  <tbody>\n",
       "    <tr>\n",
       "      <th>607</th>\n",
       "      <td>pero no completamente en la esquina. un centím...</td>\n",
       "      <td>[pero, no, completamente, en, la, esquina, ., ...</td>\n",
       "      <td>{'pero': 1, 'no': 1, 'completamente': 1, 'en':...</td>\n",
       "    </tr>\n",
       "    <tr>\n",
       "      <th>1449</th>\n",
       "      <td>k</td>\n",
       "      <td>[k]</td>\n",
       "      <td>{'k': 1}</td>\n",
       "    </tr>\n",
       "    <tr>\n",
       "      <th>1335</th>\n",
       "      <td>head southeast at 2 oclock on the sand</td>\n",
       "      <td>[head, southeast, at, 2, oclock, on, the, sand]</td>\n",
       "      <td>{'head': 1, 'southeast': 1, 'at': 1, '2': 1, '...</td>\n",
       "    </tr>\n",
       "    <tr>\n",
       "      <th>1259</th>\n",
       "      <td>cross the wooden bridge towards the tiger, and...</td>\n",
       "      <td>[cross, the, wooden, bridge, towards, the, tig...</td>\n",
       "      <td>{'cross': 1, 'the': 3, 'wooden': 1, 'bridge': ...</td>\n",
       "    </tr>\n",
       "    <tr>\n",
       "      <th>1625</th>\n",
       "      <td>sin tocar a nadie</td>\n",
       "      <td>[sin, tocar, a, nadie]</td>\n",
       "      <td>{'sin': 1, 'tocar': 1, 'a': 1, 'nadie': 1}</td>\n",
       "    </tr>\n",
       "    <tr>\n",
       "      <th>1040</th>\n",
       "      <td>cros the dolphin's body and exit the like betw...</td>\n",
       "      <td>[cros, the, dolphin, 's, body, and, exit, the,...</td>\n",
       "      <td>{'cros': 1, 'the': 2, 'dolphin': 1, ''s': 1, '...</td>\n",
       "    </tr>\n",
       "    <tr>\n",
       "      <th>480</th>\n",
       "      <td>if you look at the rows of bushes start from t...</td>\n",
       "      <td>[if, you, look, at, the, rows, of, bushes, sta...</td>\n",
       "      <td>{'if': 1, 'you': 1, 'look': 1, 'at': 1, 'the':...</td>\n",
       "    </tr>\n",
       "    <tr>\n",
       "      <th>1800</th>\n",
       "      <td>ahora cruzarás el puente pasando justo debajo ...</td>\n",
       "      <td>[ahora, cruzarás, el, puente, pasando, justo, ...</td>\n",
       "      <td>{'ahora': 1, 'cruzarás': 1, 'el': 1, 'puente':...</td>\n",
       "    </tr>\n",
       "    <tr>\n",
       "      <th>197</th>\n",
       "      <td>and then to the left or right of the elephant?</td>\n",
       "      <td>[and, then, to, the, left, or, right, of, the,...</td>\n",
       "      <td>{'and': 1, 'then': 1, 'to': 1, 'the': 2, 'left...</td>\n",
       "    </tr>\n",
       "    <tr>\n",
       "      <th>704</th>\n",
       "      <td>como haciendo una l invertida</td>\n",
       "      <td>[como, haciendo, una, l, invertida]</td>\n",
       "      <td>{'como': 1, 'haciendo': 1, 'una': 1, 'l': 1, '...</td>\n",
       "    </tr>\n",
       "  </tbody>\n",
       "</table>\n",
       "</div>"
      ],
      "text/plain": [
       "                                                   turn  \\\n",
       "607   pero no completamente en la esquina. un centím...   \n",
       "1449                                                  k   \n",
       "1335             head southeast at 2 oclock on the sand   \n",
       "1259  cross the wooden bridge towards the tiger, and...   \n",
       "1625                                  sin tocar a nadie   \n",
       "1040  cros the dolphin's body and exit the like betw...   \n",
       "480   if you look at the rows of bushes start from t...   \n",
       "1800  ahora cruzarás el puente pasando justo debajo ...   \n",
       "197      and then to the left or right of the elephant?   \n",
       "704                       como haciendo una l invertida   \n",
       "\n",
       "                                                 tokens  \\\n",
       "607   [pero, no, completamente, en, la, esquina, ., ...   \n",
       "1449                                                [k]   \n",
       "1335    [head, southeast, at, 2, oclock, on, the, sand]   \n",
       "1259  [cross, the, wooden, bridge, towards, the, tig...   \n",
       "1625                             [sin, tocar, a, nadie]   \n",
       "1040  [cros, the, dolphin, 's, body, and, exit, the,...   \n",
       "480   [if, you, look, at, the, rows, of, bushes, sta...   \n",
       "1800  [ahora, cruzarás, el, puente, pasando, justo, ...   \n",
       "197   [and, then, to, the, left, or, right, of, the,...   \n",
       "704                 [como, haciendo, una, l, invertida]   \n",
       "\n",
       "                                              freq_dist  \n",
       "607   {'pero': 1, 'no': 1, 'completamente': 1, 'en':...  \n",
       "1449                                           {'k': 1}  \n",
       "1335  {'head': 1, 'southeast': 1, 'at': 1, '2': 1, '...  \n",
       "1259  {'cross': 1, 'the': 3, 'wooden': 1, 'bridge': ...  \n",
       "1625         {'sin': 1, 'tocar': 1, 'a': 1, 'nadie': 1}  \n",
       "1040  {'cros': 1, 'the': 2, 'dolphin': 1, ''s': 1, '...  \n",
       "480   {'if': 1, 'you': 1, 'look': 1, 'at': 1, 'the':...  \n",
       "1800  {'ahora': 1, 'cruzarás': 1, 'el': 1, 'puente':...  \n",
       "197   {'and': 1, 'then': 1, 'to': 1, 'the': 2, 'left...  \n",
       "704   {'como': 1, 'haciendo': 1, 'una': 1, 'l': 1, '...  "
      ]
     },
     "execution_count": 19,
     "metadata": {},
     "output_type": "execute_result"
    }
   ],
   "source": [
    "#A sample\n",
    "\n",
    "df[[\"turn\", \"tokens\", \"freq_dist\"]].sample(10) "
   ]
  },
  {
   "cell_type": "markdown",
   "metadata": {},
   "source": [
    "- Saving results:"
   ]
  },
  {
   "cell_type": "code",
   "execution_count": 20,
   "metadata": {},
   "outputs": [],
   "source": [
    "df.to_excel(\"../spreadsheets/df_analysis.xlsx\", index=False) #Saving as spreadsheet file\n",
    "df.to_pickle('../pkl/df_analysis.pkl')                       #Pickling"
   ]
  },
  {
   "cell_type": "markdown",
   "metadata": {},
   "source": [
    "## 3. Descriptive analysis"
   ]
  },
  {
   "cell_type": "markdown",
   "metadata": {},
   "source": [
    "- We will now gather a series of informative measures from the data. Note that these are preliminary, for the final tallies as reported in the [article](https://www.sciencedirect.com/science/article/pii/S2772766123000411) please consult the data analysis notebook. Let's start with overall counts:"
   ]
  },
  {
   "cell_type": "code",
   "execution_count": 21,
   "metadata": {},
   "outputs": [
    {
     "data": {
      "text/html": [
       "<div>\n",
       "<style scoped>\n",
       "    .dataframe tbody tr th:only-of-type {\n",
       "        vertical-align: middle;\n",
       "    }\n",
       "\n",
       "    .dataframe tbody tr th {\n",
       "        vertical-align: top;\n",
       "    }\n",
       "\n",
       "    .dataframe thead th {\n",
       "        text-align: right;\n",
       "    }\n",
       "</style>\n",
       "<table border=\"1\" class=\"dataframe\">\n",
       "  <thead>\n",
       "    <tr style=\"text-align: right;\">\n",
       "      <th></th>\n",
       "      <th>token_count</th>\n",
       "      <th>type_count</th>\n",
       "    </tr>\n",
       "  </thead>\n",
       "  <tbody>\n",
       "    <tr>\n",
       "      <th>count</th>\n",
       "      <td>2223.000000</td>\n",
       "      <td>2223.000000</td>\n",
       "    </tr>\n",
       "    <tr>\n",
       "      <th>mean</th>\n",
       "      <td>8.730994</td>\n",
       "      <td>7.618983</td>\n",
       "    </tr>\n",
       "    <tr>\n",
       "      <th>std</th>\n",
       "      <td>8.798145</td>\n",
       "      <td>6.766196</td>\n",
       "    </tr>\n",
       "    <tr>\n",
       "      <th>min</th>\n",
       "      <td>1.000000</td>\n",
       "      <td>1.000000</td>\n",
       "    </tr>\n",
       "    <tr>\n",
       "      <th>25%</th>\n",
       "      <td>2.000000</td>\n",
       "      <td>2.000000</td>\n",
       "    </tr>\n",
       "    <tr>\n",
       "      <th>50%</th>\n",
       "      <td>6.000000</td>\n",
       "      <td>6.000000</td>\n",
       "    </tr>\n",
       "    <tr>\n",
       "      <th>75%</th>\n",
       "      <td>12.000000</td>\n",
       "      <td>11.000000</td>\n",
       "    </tr>\n",
       "    <tr>\n",
       "      <th>max</th>\n",
       "      <td>103.000000</td>\n",
       "      <td>57.000000</td>\n",
       "    </tr>\n",
       "  </tbody>\n",
       "</table>\n",
       "</div>"
      ],
      "text/plain": [
       "       token_count   type_count\n",
       "count  2223.000000  2223.000000\n",
       "mean      8.730994     7.618983\n",
       "std       8.798145     6.766196\n",
       "min       1.000000     1.000000\n",
       "25%       2.000000     2.000000\n",
       "50%       6.000000     6.000000\n",
       "75%      12.000000    11.000000\n",
       "max     103.000000    57.000000"
      ]
     },
     "execution_count": 21,
     "metadata": {},
     "output_type": "execute_result"
    }
   ],
   "source": [
    "#Continuous variables\n",
    "\n",
    "df.describe() "
   ]
  },
  {
   "cell_type": "markdown",
   "metadata": {},
   "source": [
    "- Zooming in on figures of interest:"
   ]
  },
  {
   "cell_type": "code",
   "execution_count": 22,
   "metadata": {},
   "outputs": [
    {
     "name": "stdout",
     "output_type": "stream",
     "text": [
      "Total turns:\n",
      " 2223\n",
      "Total tokens:\n",
      " 19409\n",
      "Total types:\n",
      " 16937 \n",
      "\n",
      "Mean tokens per turn:\n",
      " 8.730994152046783\n",
      "Standard deviation:\n",
      " 8.796165649916274 \n",
      "\n",
      "Mean types per turn:\n",
      " 7.618983355825461\n",
      "Standard deviation:\n",
      " 6.7646736227881075\n"
     ]
    }
   ],
   "source": [
    "#Total \n",
    "\n",
    "print('Total turns:\\n', len(df))\n",
    "print('Total tokens:\\n', np.sum(df['token_count']))\n",
    "print('Total types:\\n', np.sum(df['type_count']), '\\n')\n",
    "\n",
    "#Means and SDs\n",
    "\n",
    "print('Mean tokens per turn:\\n', np.mean(df['token_count']))\n",
    "print('Standard deviation:\\n', np.std(df['token_count']), '\\n')\n",
    "print('Mean types per turn:\\n', np.mean(df['type_count']))\n",
    "print('Standard deviation:\\n', np.std(df['type_count']))"
   ]
  },
  {
   "cell_type": "markdown",
   "metadata": {},
   "source": [
    "- Moving on to data points by participant, starting with turns by participant:"
   ]
  },
  {
   "cell_type": "code",
   "execution_count": 23,
   "metadata": {},
   "outputs": [
    {
     "data": {
      "text/plain": [
       "E1    111\n",
       "S1    105\n",
       "A1    102\n",
       "G2    100\n",
       "B2    100\n",
       "M2     95\n",
       "N2     95\n",
       "T1     79\n",
       "H2     77\n",
       "N1     74\n",
       "K2     72\n",
       "M1     71\n",
       "B1     70\n",
       "J2     65\n",
       "P1     65\n",
       "X1     62\n",
       "F1     62\n",
       "A2     61\n",
       "I2     58\n",
       "W1     56\n",
       "L2     52\n",
       "Q1     49\n",
       "K1     45\n",
       "O1     41\n",
       "R1     39\n",
       "L1     37\n",
       "I1     35\n",
       "H1     34\n",
       "V1     33\n",
       "O2     33\n",
       "G1     30\n",
       "Y1     30\n",
       "U1     27\n",
       "Z1     26\n",
       "R2     26\n",
       "F2     24\n",
       "E2     24\n",
       "J1     22\n",
       "P2     18\n",
       "Q2     18\n",
       "Name: participant, dtype: int64"
      ]
     },
     "execution_count": 23,
     "metadata": {},
     "output_type": "execute_result"
    }
   ],
   "source": [
    "df['participant'].value_counts()"
   ]
  },
  {
   "cell_type": "code",
   "execution_count": 24,
   "metadata": {},
   "outputs": [
    {
     "data": {
      "text/plain": [
       "<matplotlib.axes._subplots.AxesSubplot object at 0x000001F399135CA0>"
      ]
     },
     "execution_count": 24,
     "metadata": {},
     "output_type": "execute_result"
    },
    {
     "data": {
      "image/png": "[encoded data removed]",
      "text/plain": [
       "<Figure size 864x432 with 1 Axes>"
      ]
     },
     "metadata": {},
     "output_type": "display_data"
    }
   ],
   "source": [
    "#Bar plot\n",
    "\n",
    "df['participant'].value_counts().plot(kind='bar', figsize=(12,6), \n",
    "                                      color=['deepskyblue'],\n",
    "                                      edgecolor=\"black\",\n",
    "                                      fontsize=14, \n",
    "                                      title ='Turns by participant')\n",
    "\n",
    "plt.savefig(\"../figures/exploration/turns_by_participants.png\")"
   ]
  },
  {
   "cell_type": "markdown",
   "metadata": {},
   "source": [
    "- Relative to the total:"
   ]
  },
  {
   "cell_type": "code",
   "execution_count": 25,
   "metadata": {},
   "outputs": [
    {
     "data": {
      "text/plain": [
       "E1    0.049933\n",
       "S1    0.047233\n",
       "A1    0.045884\n",
       "G2    0.044984\n",
       "B2    0.044984\n",
       "M2    0.042735\n",
       "N2    0.042735\n",
       "T1    0.035538\n",
       "H2    0.034638\n",
       "N1    0.033288\n",
       "K2    0.032389\n",
       "M1    0.031939\n",
       "B1    0.031489\n",
       "J2    0.029240\n",
       "P1    0.029240\n",
       "X1    0.027890\n",
       "F1    0.027890\n",
       "A2    0.027440\n",
       "I2    0.026091\n",
       "W1    0.025191\n",
       "L2    0.023392\n",
       "Q1    0.022042\n",
       "K1    0.020243\n",
       "O1    0.018444\n",
       "R1    0.017544\n",
       "L1    0.016644\n",
       "I1    0.015744\n",
       "H1    0.015295\n",
       "V1    0.014845\n",
       "O2    0.014845\n",
       "G1    0.013495\n",
       "Y1    0.013495\n",
       "U1    0.012146\n",
       "Z1    0.011696\n",
       "R2    0.011696\n",
       "F2    0.010796\n",
       "E2    0.010796\n",
       "J1    0.009897\n",
       "P2    0.008097\n",
       "Q2    0.008097\n",
       "Name: participant, dtype: float64"
      ]
     },
     "execution_count": 25,
     "metadata": {},
     "output_type": "execute_result"
    }
   ],
   "source": [
    "df['participant'].value_counts(normalize=True)"
   ]
  },
  {
   "cell_type": "markdown",
   "metadata": {},
   "source": [
    "- Mean turns by participant:"
   ]
  },
  {
   "cell_type": "code",
   "execution_count": 26,
   "metadata": {},
   "outputs": [
    {
     "name": "stdout",
     "output_type": "stream",
     "text": [
      "Mean turns by participant: 55.575\n"
     ]
    }
   ],
   "source": [
    "print('Mean turns by participant:',np.mean(df['participant'].value_counts()))"
   ]
  },
  {
   "cell_type": "code",
   "execution_count": 27,
   "metadata": {},
   "outputs": [
    {
     "name": "stdout",
     "output_type": "stream",
     "text": [
      "Mean tokens and types each turn by individual participant:\n"
     ]
    },
    {
     "data": {
      "text/html": [
       "<div>\n",
       "<style scoped>\n",
       "    .dataframe tbody tr th:only-of-type {\n",
       "        vertical-align: middle;\n",
       "    }\n",
       "\n",
       "    .dataframe tbody tr th {\n",
       "        vertical-align: top;\n",
       "    }\n",
       "\n",
       "    .dataframe thead th {\n",
       "        text-align: right;\n",
       "    }\n",
       "</style>\n",
       "<table border=\"1\" class=\"dataframe\">\n",
       "  <thead>\n",
       "    <tr style=\"text-align: right;\">\n",
       "      <th></th>\n",
       "      <th>token_count</th>\n",
       "      <th>type_count</th>\n",
       "    </tr>\n",
       "    <tr>\n",
       "      <th>participant</th>\n",
       "      <th></th>\n",
       "      <th></th>\n",
       "    </tr>\n",
       "  </thead>\n",
       "  <tbody>\n",
       "    <tr>\n",
       "      <th>A1</th>\n",
       "      <td>8.205882</td>\n",
       "      <td>7.627451</td>\n",
       "    </tr>\n",
       "    <tr>\n",
       "      <th>A2</th>\n",
       "      <td>6.360656</td>\n",
       "      <td>5.754098</td>\n",
       "    </tr>\n",
       "    <tr>\n",
       "      <th>B1</th>\n",
       "      <td>5.342857</td>\n",
       "      <td>5.157143</td>\n",
       "    </tr>\n",
       "    <tr>\n",
       "      <th>B2</th>\n",
       "      <td>7.870000</td>\n",
       "      <td>7.250000</td>\n",
       "    </tr>\n",
       "    <tr>\n",
       "      <th>E1</th>\n",
       "      <td>8.747748</td>\n",
       "      <td>7.900901</td>\n",
       "    </tr>\n",
       "    <tr>\n",
       "      <th>E2</th>\n",
       "      <td>10.416667</td>\n",
       "      <td>9.083333</td>\n",
       "    </tr>\n",
       "    <tr>\n",
       "      <th>F1</th>\n",
       "      <td>9.774194</td>\n",
       "      <td>8.193548</td>\n",
       "    </tr>\n",
       "    <tr>\n",
       "      <th>F2</th>\n",
       "      <td>8.958333</td>\n",
       "      <td>8.166667</td>\n",
       "    </tr>\n",
       "    <tr>\n",
       "      <th>G1</th>\n",
       "      <td>8.200000</td>\n",
       "      <td>7.000000</td>\n",
       "    </tr>\n",
       "    <tr>\n",
       "      <th>G2</th>\n",
       "      <td>6.200000</td>\n",
       "      <td>5.800000</td>\n",
       "    </tr>\n",
       "    <tr>\n",
       "      <th>H1</th>\n",
       "      <td>5.235294</td>\n",
       "      <td>4.735294</td>\n",
       "    </tr>\n",
       "    <tr>\n",
       "      <th>H2</th>\n",
       "      <td>8.870130</td>\n",
       "      <td>7.584416</td>\n",
       "    </tr>\n",
       "    <tr>\n",
       "      <th>I1</th>\n",
       "      <td>14.257143</td>\n",
       "      <td>11.285714</td>\n",
       "    </tr>\n",
       "    <tr>\n",
       "      <th>I2</th>\n",
       "      <td>5.793103</td>\n",
       "      <td>5.482759</td>\n",
       "    </tr>\n",
       "    <tr>\n",
       "      <th>J1</th>\n",
       "      <td>16.227273</td>\n",
       "      <td>12.818182</td>\n",
       "    </tr>\n",
       "    <tr>\n",
       "      <th>J2</th>\n",
       "      <td>6.461538</td>\n",
       "      <td>5.753846</td>\n",
       "    </tr>\n",
       "    <tr>\n",
       "      <th>K1</th>\n",
       "      <td>8.733333</td>\n",
       "      <td>7.688889</td>\n",
       "    </tr>\n",
       "    <tr>\n",
       "      <th>K2</th>\n",
       "      <td>9.277778</td>\n",
       "      <td>8.333333</td>\n",
       "    </tr>\n",
       "    <tr>\n",
       "      <th>L1</th>\n",
       "      <td>10.945946</td>\n",
       "      <td>9.378378</td>\n",
       "    </tr>\n",
       "    <tr>\n",
       "      <th>L2</th>\n",
       "      <td>9.673077</td>\n",
       "      <td>8.250000</td>\n",
       "    </tr>\n",
       "    <tr>\n",
       "      <th>M1</th>\n",
       "      <td>8.183099</td>\n",
       "      <td>7.408451</td>\n",
       "    </tr>\n",
       "    <tr>\n",
       "      <th>M2</th>\n",
       "      <td>5.600000</td>\n",
       "      <td>5.010526</td>\n",
       "    </tr>\n",
       "    <tr>\n",
       "      <th>N1</th>\n",
       "      <td>9.162162</td>\n",
       "      <td>8.094595</td>\n",
       "    </tr>\n",
       "    <tr>\n",
       "      <th>N2</th>\n",
       "      <td>9.652632</td>\n",
       "      <td>7.926316</td>\n",
       "    </tr>\n",
       "    <tr>\n",
       "      <th>O1</th>\n",
       "      <td>10.804878</td>\n",
       "      <td>9.780488</td>\n",
       "    </tr>\n",
       "    <tr>\n",
       "      <th>O2</th>\n",
       "      <td>13.757576</td>\n",
       "      <td>11.454545</td>\n",
       "    </tr>\n",
       "    <tr>\n",
       "      <th>P1</th>\n",
       "      <td>7.907692</td>\n",
       "      <td>7.138462</td>\n",
       "    </tr>\n",
       "    <tr>\n",
       "      <th>P2</th>\n",
       "      <td>8.277778</td>\n",
       "      <td>7.222222</td>\n",
       "    </tr>\n",
       "    <tr>\n",
       "      <th>Q1</th>\n",
       "      <td>7.673469</td>\n",
       "      <td>7.204082</td>\n",
       "    </tr>\n",
       "    <tr>\n",
       "      <th>Q2</th>\n",
       "      <td>10.055556</td>\n",
       "      <td>8.666667</td>\n",
       "    </tr>\n",
       "    <tr>\n",
       "      <th>R1</th>\n",
       "      <td>10.923077</td>\n",
       "      <td>9.333333</td>\n",
       "    </tr>\n",
       "    <tr>\n",
       "      <th>R2</th>\n",
       "      <td>12.000000</td>\n",
       "      <td>9.923077</td>\n",
       "    </tr>\n",
       "    <tr>\n",
       "      <th>S1</th>\n",
       "      <td>8.847619</td>\n",
       "      <td>7.552381</td>\n",
       "    </tr>\n",
       "    <tr>\n",
       "      <th>T1</th>\n",
       "      <td>6.658228</td>\n",
       "      <td>6.012658</td>\n",
       "    </tr>\n",
       "    <tr>\n",
       "      <th>U1</th>\n",
       "      <td>9.407407</td>\n",
       "      <td>7.814815</td>\n",
       "    </tr>\n",
       "    <tr>\n",
       "      <th>V1</th>\n",
       "      <td>12.393939</td>\n",
       "      <td>9.424242</td>\n",
       "    </tr>\n",
       "    <tr>\n",
       "      <th>W1</th>\n",
       "      <td>9.517857</td>\n",
       "      <td>8.375000</td>\n",
       "    </tr>\n",
       "    <tr>\n",
       "      <th>X1</th>\n",
       "      <td>12.435484</td>\n",
       "      <td>10.596774</td>\n",
       "    </tr>\n",
       "    <tr>\n",
       "      <th>Y1</th>\n",
       "      <td>12.366667</td>\n",
       "      <td>9.933333</td>\n",
       "    </tr>\n",
       "    <tr>\n",
       "      <th>Z1</th>\n",
       "      <td>12.192308</td>\n",
       "      <td>8.653846</td>\n",
       "    </tr>\n",
       "  </tbody>\n",
       "</table>\n",
       "</div>"
      ],
      "text/plain": [
       "             token_count  type_count\n",
       "participant                         \n",
       "A1              8.205882    7.627451\n",
       "A2              6.360656    5.754098\n",
       "B1              5.342857    5.157143\n",
       "B2              7.870000    7.250000\n",
       "E1              8.747748    7.900901\n",
       "E2             10.416667    9.083333\n",
       "F1              9.774194    8.193548\n",
       "F2              8.958333    8.166667\n",
       "G1              8.200000    7.000000\n",
       "G2              6.200000    5.800000\n",
       "H1              5.235294    4.735294\n",
       "H2              8.870130    7.584416\n",
       "I1             14.257143   11.285714\n",
       "I2              5.793103    5.482759\n",
       "J1             16.227273   12.818182\n",
       "J2              6.461538    5.753846\n",
       "K1              8.733333    7.688889\n",
       "K2              9.277778    8.333333\n",
       "L1             10.945946    9.378378\n",
       "L2              9.673077    8.250000\n",
       "M1              8.183099    7.408451\n",
       "M2              5.600000    5.010526\n",
       "N1              9.162162    8.094595\n",
       "N2              9.652632    7.926316\n",
       "O1             10.804878    9.780488\n",
       "O2             13.757576   11.454545\n",
       "P1              7.907692    7.138462\n",
       "P2              8.277778    7.222222\n",
       "Q1              7.673469    7.204082\n",
       "Q2             10.055556    8.666667\n",
       "R1             10.923077    9.333333\n",
       "R2             12.000000    9.923077\n",
       "S1              8.847619    7.552381\n",
       "T1              6.658228    6.012658\n",
       "U1              9.407407    7.814815\n",
       "V1             12.393939    9.424242\n",
       "W1              9.517857    8.375000\n",
       "X1             12.435484   10.596774\n",
       "Y1             12.366667    9.933333\n",
       "Z1             12.192308    8.653846"
      ]
     },
     "execution_count": 27,
     "metadata": {},
     "output_type": "execute_result"
    }
   ],
   "source": [
    "print('Mean tokens and types each turn by individual participant:')\n",
    "df.groupby(['participant']).mean()"
   ]
  },
  {
   "cell_type": "markdown",
   "metadata": {},
   "source": [
    "- By language:"
   ]
  },
  {
   "cell_type": "code",
   "execution_count": 28,
   "metadata": {},
   "outputs": [
    {
     "name": "stdout",
     "output_type": "stream",
     "text": [
      "Turns by language:\n"
     ]
    },
    {
     "data": {
      "text/plain": [
       "English    1317\n",
       "Spanish     906\n",
       "Name: language, dtype: int64"
      ]
     },
     "execution_count": 28,
     "metadata": {},
     "output_type": "execute_result"
    }
   ],
   "source": [
    "print('Turns by language:')            #Note that there are more ENG sessions, and that the first ENG \n",
    "df['language'].value_counts()          #session included all 8 maps"
   ]
  },
  {
   "cell_type": "markdown",
   "metadata": {},
   "source": [
    "- Relative to the total:"
   ]
  },
  {
   "cell_type": "code",
   "execution_count": 29,
   "metadata": {},
   "outputs": [
    {
     "data": {
      "text/plain": [
       "English    0.592443\n",
       "Spanish    0.407557\n",
       "Name: language, dtype: float64"
      ]
     },
     "execution_count": 29,
     "metadata": {},
     "output_type": "execute_result"
    }
   ],
   "source": [
    "df['language'].value_counts(normalize=True)"
   ]
  },
  {
   "cell_type": "markdown",
   "metadata": {},
   "source": [
    "- Mean tokens and types by language:"
   ]
  },
  {
   "cell_type": "code",
   "execution_count": 30,
   "metadata": {},
   "outputs": [
    {
     "data": {
      "text/html": [
       "<div>\n",
       "<style scoped>\n",
       "    .dataframe tbody tr th:only-of-type {\n",
       "        vertical-align: middle;\n",
       "    }\n",
       "\n",
       "    .dataframe tbody tr th {\n",
       "        vertical-align: top;\n",
       "    }\n",
       "\n",
       "    .dataframe thead th {\n",
       "        text-align: right;\n",
       "    }\n",
       "</style>\n",
       "<table border=\"1\" class=\"dataframe\">\n",
       "  <thead>\n",
       "    <tr style=\"text-align: right;\">\n",
       "      <th></th>\n",
       "      <th>token_count</th>\n",
       "      <th>type_count</th>\n",
       "    </tr>\n",
       "    <tr>\n",
       "      <th>language</th>\n",
       "      <th></th>\n",
       "      <th></th>\n",
       "    </tr>\n",
       "  </thead>\n",
       "  <tbody>\n",
       "    <tr>\n",
       "      <th>English</th>\n",
       "      <td>8.807897</td>\n",
       "      <td>7.599848</td>\n",
       "    </tr>\n",
       "    <tr>\n",
       "      <th>Spanish</th>\n",
       "      <td>8.619205</td>\n",
       "      <td>7.646799</td>\n",
       "    </tr>\n",
       "  </tbody>\n",
       "</table>\n",
       "</div>"
      ],
      "text/plain": [
       "          token_count  type_count\n",
       "language                         \n",
       "English      8.807897    7.599848\n",
       "Spanish      8.619205    7.646799"
      ]
     },
     "execution_count": 30,
     "metadata": {},
     "output_type": "execute_result"
    },
    {
     "data": {
      "text/plain": [
       "<matplotlib.axes._subplots.AxesSubplot object at 0x000001F3992D6850>"
      ]
     },
     "execution_count": 30,
     "metadata": {},
     "output_type": "execute_result"
    },
    {
     "data": {
      "image/png": "[encoded data removed]",
      "text/plain": [
       "<Figure size 432x432 with 1 Axes>"
      ]
     },
     "metadata": {},
     "output_type": "display_data"
    }
   ],
   "source": [
    "#Table\n",
    "df.groupby(['language']).mean()\n",
    "\n",
    "#Bart plot\n",
    "df['language'].value_counts().plot(kind='bar', figsize=(6,6), color=['deepskyblue'], edgecolor=\"black\", fontsize=14, \n",
    "                                      title ='Turns by language')\n",
    "\n",
    "plt.savefig(\"../figures/exploration/turns_by_language.png\")"
   ]
  },
  {
   "cell_type": "code",
   "execution_count": 31,
   "metadata": {},
   "outputs": [
    {
     "data": {
      "text/plain": [
       "Text(15.795000000000002, 0.5, 'Tokens per turn')"
      ]
     },
     "execution_count": 31,
     "metadata": {},
     "output_type": "execute_result"
    },
    {
     "data": {
      "text/plain": [
       "Text(0.5, 21.92, 'Language')"
      ]
     },
     "execution_count": 31,
     "metadata": {},
     "output_type": "execute_result"
    },
    {
     "data": {
      "image/png": "[encoded data removed]",
      "text/plain": [
       "<Figure size 432x432 with 1 Axes>"
      ]
     },
     "metadata": {},
     "output_type": "display_data"
    }
   ],
   "source": [
    "#Violin plot of tokens per turn by language \n",
    "\n",
    "p = sns.catplot(x=\"language\", y=\"token_count\", kind=\"violin\",data=df, height=6, aspect=1)\n",
    "plt.ylabel('Tokens per turn')\n",
    "plt.xlabel('Language')\n",
    "\n",
    "plt.savefig(\"../figures/exploration/tokens_per_turn_by_language.png\")"
   ]
  },
  {
   "cell_type": "markdown",
   "metadata": {},
   "source": [
    "- By session:"
   ]
  },
  {
   "cell_type": "code",
   "execution_count": 32,
   "metadata": {},
   "outputs": [
    {
     "name": "stdout",
     "output_type": "stream",
     "text": [
      "Turns by session:\n"
     ]
    },
    {
     "data": {
      "text/plain": [
       "twenty        190\n",
       "ten           184\n",
       "seventeen     177\n",
       "three         173\n",
       "one           172\n",
       "fourteen      161\n",
       "seven         145\n",
       "nineteen      124\n",
       "eighteen      123\n",
       "twelve        118\n",
       "eight         106\n",
       "nine           88\n",
       "six            82\n",
       "four           64\n",
       "eleven         60\n",
       "five           57\n",
       "thirteen       56\n",
       "twenty-one     51\n",
       "sixteen        48\n",
       "twenty-two     44\n",
       "Name: session, dtype: int64"
      ]
     },
     "execution_count": 32,
     "metadata": {},
     "output_type": "execute_result"
    },
    {
     "data": {
      "text/plain": [
       "<matplotlib.axes._subplots.AxesSubplot object at 0x000001F39934CC40>"
      ]
     },
     "execution_count": 32,
     "metadata": {},
     "output_type": "execute_result"
    },
    {
     "data": {
      "image/png": "[encoded data removed]",
      "text/plain": [
       "<Figure size 864x432 with 1 Axes>"
      ]
     },
     "metadata": {},
     "output_type": "display_data"
    }
   ],
   "source": [
    "print('Turns by session:')\n",
    "\n",
    "#Table\n",
    "df['session'].value_counts()\n",
    "\n",
    "#Bar plot\n",
    "df['session'].value_counts().plot(kind='bar', figsize=(12,6), color=['deepskyblue'], edgecolor=\"black\", fontsize=14, \n",
    "                                      title ='Turns by session')\n",
    "\n",
    "plt.savefig(\"../figures/exploration/turns_by_session.png\")"
   ]
  },
  {
   "cell_type": "markdown",
   "metadata": {},
   "source": [
    "- Relative to the total:"
   ]
  },
  {
   "cell_type": "code",
   "execution_count": 33,
   "metadata": {},
   "outputs": [
    {
     "data": {
      "text/plain": [
       "twenty        0.085470\n",
       "ten           0.082771\n",
       "seventeen     0.079622\n",
       "three         0.077823\n",
       "one           0.077373\n",
       "fourteen      0.072425\n",
       "seven         0.065227\n",
       "nineteen      0.055780\n",
       "eighteen      0.055331\n",
       "twelve        0.053081\n",
       "eight         0.047683\n",
       "nine          0.039586\n",
       "six           0.036887\n",
       "four          0.028790\n",
       "eleven        0.026991\n",
       "five          0.025641\n",
       "thirteen      0.025191\n",
       "twenty-one    0.022942\n",
       "sixteen       0.021592\n",
       "twenty-two    0.019793\n",
       "Name: session, dtype: float64"
      ]
     },
     "execution_count": 33,
     "metadata": {},
     "output_type": "execute_result"
    }
   ],
   "source": [
    "df['session'].value_counts(normalize=True)"
   ]
  },
  {
   "cell_type": "markdown",
   "metadata": {},
   "source": [
    "- Mean tokens and types by session:"
   ]
  },
  {
   "cell_type": "code",
   "execution_count": 34,
   "metadata": {},
   "outputs": [
    {
     "data": {
      "text/html": [
       "<div>\n",
       "<style scoped>\n",
       "    .dataframe tbody tr th:only-of-type {\n",
       "        vertical-align: middle;\n",
       "    }\n",
       "\n",
       "    .dataframe tbody tr th {\n",
       "        vertical-align: top;\n",
       "    }\n",
       "\n",
       "    .dataframe thead th {\n",
       "        text-align: right;\n",
       "    }\n",
       "</style>\n",
       "<table border=\"1\" class=\"dataframe\">\n",
       "  <thead>\n",
       "    <tr style=\"text-align: right;\">\n",
       "      <th></th>\n",
       "      <th>token_count</th>\n",
       "      <th>type_count</th>\n",
       "    </tr>\n",
       "    <tr>\n",
       "      <th>session</th>\n",
       "      <th></th>\n",
       "      <th></th>\n",
       "    </tr>\n",
       "  </thead>\n",
       "  <tbody>\n",
       "    <tr>\n",
       "      <th>eight</th>\n",
       "      <td>9.028302</td>\n",
       "      <td>8.160377</td>\n",
       "    </tr>\n",
       "    <tr>\n",
       "      <th>eighteen</th>\n",
       "      <td>6.146341</td>\n",
       "      <td>5.626016</td>\n",
       "    </tr>\n",
       "    <tr>\n",
       "      <th>eleven</th>\n",
       "      <td>11.050000</td>\n",
       "      <td>8.700000</td>\n",
       "    </tr>\n",
       "    <tr>\n",
       "      <th>five</th>\n",
       "      <td>15.017544</td>\n",
       "      <td>11.877193</td>\n",
       "    </tr>\n",
       "    <tr>\n",
       "      <th>four</th>\n",
       "      <td>6.625000</td>\n",
       "      <td>5.796875</td>\n",
       "    </tr>\n",
       "    <tr>\n",
       "      <th>fourteen</th>\n",
       "      <td>7.298137</td>\n",
       "      <td>6.683230</td>\n",
       "    </tr>\n",
       "    <tr>\n",
       "      <th>nine</th>\n",
       "      <td>9.113636</td>\n",
       "      <td>8.147727</td>\n",
       "    </tr>\n",
       "    <tr>\n",
       "      <th>nineteen</th>\n",
       "      <td>9.443548</td>\n",
       "      <td>8.298387</td>\n",
       "    </tr>\n",
       "    <tr>\n",
       "      <th>one</th>\n",
       "      <td>7.040698</td>\n",
       "      <td>6.622093</td>\n",
       "    </tr>\n",
       "    <tr>\n",
       "      <th>seven</th>\n",
       "      <td>8.682759</td>\n",
       "      <td>7.758621</td>\n",
       "    </tr>\n",
       "    <tr>\n",
       "      <th>seventeen</th>\n",
       "      <td>7.361582</td>\n",
       "      <td>6.576271</td>\n",
       "    </tr>\n",
       "    <tr>\n",
       "      <th>six</th>\n",
       "      <td>9.731707</td>\n",
       "      <td>8.451220</td>\n",
       "    </tr>\n",
       "    <tr>\n",
       "      <th>sixteen</th>\n",
       "      <td>9.687500</td>\n",
       "      <td>8.625000</td>\n",
       "    </tr>\n",
       "    <tr>\n",
       "      <th>ten</th>\n",
       "      <td>7.907609</td>\n",
       "      <td>6.891304</td>\n",
       "    </tr>\n",
       "    <tr>\n",
       "      <th>thirteen</th>\n",
       "      <td>12.285714</td>\n",
       "      <td>9.339286</td>\n",
       "    </tr>\n",
       "    <tr>\n",
       "      <th>three</th>\n",
       "      <td>9.115607</td>\n",
       "      <td>8.005780</td>\n",
       "    </tr>\n",
       "    <tr>\n",
       "      <th>twelve</th>\n",
       "      <td>11.050847</td>\n",
       "      <td>9.542373</td>\n",
       "    </tr>\n",
       "    <tr>\n",
       "      <th>twenty</th>\n",
       "      <td>7.626316</td>\n",
       "      <td>6.468421</td>\n",
       "    </tr>\n",
       "    <tr>\n",
       "      <th>twenty-one</th>\n",
       "      <td>11.823529</td>\n",
       "      <td>9.960784</td>\n",
       "    </tr>\n",
       "    <tr>\n",
       "      <th>twenty-two</th>\n",
       "      <td>11.204545</td>\n",
       "      <td>9.409091</td>\n",
       "    </tr>\n",
       "  </tbody>\n",
       "</table>\n",
       "</div>"
      ],
      "text/plain": [
       "            token_count  type_count\n",
       "session                            \n",
       "eight          9.028302    8.160377\n",
       "eighteen       6.146341    5.626016\n",
       "eleven        11.050000    8.700000\n",
       "five          15.017544   11.877193\n",
       "four           6.625000    5.796875\n",
       "fourteen       7.298137    6.683230\n",
       "nine           9.113636    8.147727\n",
       "nineteen       9.443548    8.298387\n",
       "one            7.040698    6.622093\n",
       "seven          8.682759    7.758621\n",
       "seventeen      7.361582    6.576271\n",
       "six            9.731707    8.451220\n",
       "sixteen        9.687500    8.625000\n",
       "ten            7.907609    6.891304\n",
       "thirteen      12.285714    9.339286\n",
       "three          9.115607    8.005780\n",
       "twelve        11.050847    9.542373\n",
       "twenty         7.626316    6.468421\n",
       "twenty-one    11.823529    9.960784\n",
       "twenty-two    11.204545    9.409091"
      ]
     },
     "execution_count": 34,
     "metadata": {},
     "output_type": "execute_result"
    }
   ],
   "source": [
    "df.groupby(['session']).mean()"
   ]
  },
  {
   "cell_type": "markdown",
   "metadata": {},
   "source": [
    "- I'll finish with frequency distributions (for the full dataset). To get total numbers for the whole data frame we need to unnest (flatten) the `tokens` series. For this purpose we can use Panda's own \"explode\" function:"
   ]
  },
  {
   "cell_type": "code",
   "execution_count": 35,
   "metadata": {},
   "outputs": [
    {
     "data": {
      "text/plain": [
       "(1317, 9)"
      ]
     },
     "execution_count": 35,
     "metadata": {},
     "output_type": "execute_result"
    },
    {
     "data": {
      "text/plain": [
       "(906, 9)"
      ]
     },
     "execution_count": 35,
     "metadata": {},
     "output_type": "execute_result"
    }
   ],
   "source": [
    "#Creating subsets for language\n",
    "\n",
    "eng = df[df.language == \"English\"]\n",
    "spa = df[df.language == \"Spanish\"]\n",
    "\n",
    "eng.shape\n",
    "spa.shape"
   ]
  },
  {
   "cell_type": "code",
   "execution_count": 36,
   "metadata": {},
   "outputs": [],
   "source": [
    "#Unnesting the tokens column\n",
    "\n",
    "unnested_eng = eng['tokens'].explode()\n",
    "unnested_spa = spa['tokens'].explode()"
   ]
  },
  {
   "cell_type": "code",
   "execution_count": 37,
   "metadata": {},
   "outputs": [],
   "source": [
    "#Creating frequency distributions\n",
    "\n",
    "eng_fd = nltk.FreqDist(unnested_eng)\n",
    "spa_fd = nltk.FreqDist(unnested_spa)"
   ]
  },
  {
   "cell_type": "markdown",
   "metadata": {},
   "source": [
    "- Having done this, we can now extract the most frequently used words in each language:"
   ]
  },
  {
   "cell_type": "code",
   "execution_count": 38,
   "metadata": {},
   "outputs": [
    {
     "name": "stdout",
     "output_type": "stream",
     "text": [
      "Top 25 words - English\n"
     ]
    },
    {
     "data": {
      "text/plain": [
       "[('the', 1452), ('and', 368), ('of', 333), ('to', 273), (',', 234), ('go', 186), ('you', 172), ('right', 170), ('left', 149), ('on', 147), ('then', 139), ('in', 134), ('a', 128), ('i', 128), ('?', 122), ('at', 115), ('between', 100), ('it', 100), ('ok', 90), ('line', 84), ('down', 82), ('top', 80), (\"'s\", 79), ('above', 76), ('up', 75)]"
      ]
     },
     "execution_count": 38,
     "metadata": {},
     "output_type": "execute_result"
    },
    {
     "name": "stdout",
     "output_type": "stream",
     "text": [
      "Top 25 words - Spanish\n"
     ]
    },
    {
     "data": {
      "text/plain": [
       "[('la', 492), ('de', 328), ('el', 315), ('y', 290), ('por', 249), (',', 221), ('a', 200), ('del', 172), ('?', 135), ('al', 115), ('que', 112), ('en', 101), ('hasta', 100), ('ok', 96), ('entre', 83), ('las', 79), ('vas', 67), ('encima', 63), ('sin', 63), ('los', 58), ('.', 57), ('un', 53), ('lado', 48), ('luego', 46), ('hacia', 45)]"
      ]
     },
     "execution_count": 38,
     "metadata": {},
     "output_type": "execute_result"
    }
   ],
   "source": [
    "print('Top 25 words - English')\n",
    "eng_fd.most_common(25)\n",
    "print('Top 25 words - Spanish')\n",
    "spa_fd.most_common(25)"
   ]
  },
  {
   "cell_type": "markdown",
   "metadata": {},
   "source": [
    "- Without stop words and punctuation:"
   ]
  },
  {
   "cell_type": "code",
   "execution_count": 39,
   "metadata": {},
   "outputs": [],
   "source": [
    "#Using nltk's lists for both languages\n",
    "\n",
    "from nltk.corpus import stopwords \n",
    "eng_stop = stopwords.words('english')\n",
    "spa_stop = stopwords.words('spanish')"
   ]
  },
  {
   "cell_type": "code",
   "execution_count": 40,
   "metadata": {},
   "outputs": [],
   "source": [
    "#English\n",
    "\n",
    "eng_nosym = [x for x in unnested_eng if x.isalnum()] # removing punctuation\n",
    "eng_nostop =  [x for x in eng_nosym if x not in eng_stop] #stop words\n",
    "\n",
    "#Spanish\n",
    "\n",
    "spa_nosym = [x for x in unnested_spa if x.isalnum()] # removing punctuation\n",
    "spa_nostop =  [x for x in spa_nosym if x not in spa_stop] #stop words"
   ]
  },
  {
   "cell_type": "code",
   "execution_count": 41,
   "metadata": {},
   "outputs": [],
   "source": [
    "#Creating new frequency distributions\n",
    "\n",
    "eng_nostop_fd = nltk.FreqDist(eng_nostop)\n",
    "spa_nostop_fd = nltk.FreqDist(spa_nostop)"
   ]
  },
  {
   "cell_type": "markdown",
   "metadata": {},
   "source": [
    "- We can now get a new list and plot for each language."
   ]
  },
  {
   "cell_type": "code",
   "execution_count": 46,
   "metadata": {},
   "outputs": [
    {
     "name": "stdout",
     "output_type": "stream",
     "text": [
      "Top 25 non-stop words - English\n"
     ]
    },
    {
     "data": {
      "text/plain": [
       "[('go', 186), ('right', 170), ('left', 149), ('ok', 90), ('line', 84), ('top', 80), ('side', 71), ('around', 68), ('start', 64), ('head', 56), ('going', 55), ('okay', 55), ('curve', 54), ('bridge', 53), ('rock', 47), ('corner', 47), ('map', 46), ('stop', 45), ('towards', 44), ('cactus', 44), ('got', 42), ('done', 42), ('path', 41), ('bottom', 40), ('k', 39), ('draw', 38), ('end', 36), ('make', 35), ('straight', 34), ('like', 34), ('turn', 34), ('across', 33), ('tent', 33), ('south', 30), ('edge', 29), ('north', 29), ('diagonal', 28), ('toward', 28), ('tree', 27), ('cross', 27), ('water', 26), ('rocks', 26), ('dog', 25), ('pass', 25), ('continue', 25), ('one', 24), ('car', 24), ('parrot', 24), ('island', 24), ('ready', 23)]"
      ]
     },
     "execution_count": 46,
     "metadata": {},
     "output_type": "execute_result"
    },
    {
     "data": {
      "image/png": "[encoded data removed]",
      "text/plain": [
       "<Figure size 432x288 with 1 Axes>"
      ]
     },
     "metadata": {},
     "output_type": "display_data"
    },
    {
     "data": {
      "text/plain": [
       "<matplotlib.axes._subplots.AxesSubplot object at 0x000001F39B702E80>"
      ]
     },
     "execution_count": 46,
     "metadata": {},
     "output_type": "execute_result"
    }
   ],
   "source": [
    "print('Top 25 non-stop words - English')\n",
    "eng_nostop_fd.most_common(50)\n",
    "eng_nostop_fd.plot(10)"
   ]
  },
  {
   "cell_type": "code",
   "execution_count": 54,
   "metadata": {},
   "outputs": [
    {
     "name": "stdout",
     "output_type": "stream",
     "text": [
      "Top 25 non-stop words - Spanish\n"
     ]
    },
    {
     "data": {
      "text/plain": [
       "[('ok', 96), ('vas', 67), ('encima', 63), ('lado', 48), ('luego', 46), ('hacia', 45), ('listo', 42), ('debajo', 41), ('abajo', 38), ('tronco', 38), ('pasar', 36), ('izquierda', 36), ('ahora', 36), ('derecha', 35), ('perro', 34), ('parte', 34), ('tocar', 32), ('línea', 30), ('cactus', 29), ('pasas', 28), ('ahí', 26), ('puente', 26), ('justo', 25), ('camino', 25), ('bajas', 24), ('arriba', 23), ('izquierdo', 21), ('llegar', 21), ('subes', 21), ('pasando', 21), ('sigue', 21), ('pasa', 21), ('mapa', 20), ('dos', 20), ('grande', 19), ('casa', 19), ('x', 19), ('medio', 18), ('linea', 18), ('rodeas', 17), ('superior', 17), ('sigues', 17), ('rio', 17), ('tienda', 15), ('pozo', 15), ('si', 15), ('roca', 14), ('guitarra', 14), ('fuego', 14), ('carro', 14)]"
      ]
     },
     "execution_count": 54,
     "metadata": {},
     "output_type": "execute_result"
    },
    {
     "data": {
      "image/png": "[encoded data removed]",
      "text/plain": [
       "<Figure size 432x288 with 1 Axes>"
      ]
     },
     "metadata": {},
     "output_type": "display_data"
    },
    {
     "data": {
      "text/plain": [
       "<matplotlib.axes._subplots.AxesSubplot object at 0x000001F39CBCFB50>"
      ]
     },
     "execution_count": 54,
     "metadata": {},
     "output_type": "execute_result"
    }
   ],
   "source": [
    "print('Top 25 non-stop words - Spanish')\n",
    "spa_nostop_fd.most_common(50)\n",
    "spa_nostop_fd.plot(10)"
   ]
  },
  {
   "cell_type": "markdown",
   "metadata": {},
   "source": [
    "## 4. Summary"
   ]
  },
  {
   "cell_type": "markdown",
   "metadata": {},
   "source": [
    "- **In general**:\n",
    "    - There are 2,223 turns and 19,409 tokens in total. There are 16,937 types. Note that the latter figure might be inflated by typos/alternate spelling which can be removed if needed (they are not removed in this project as they might be markers of informality). The difference between types and token is small as turns are normally short. When considering both languages, the mean lenght of a turn is 8.73 tokens, with a relatively high standard deviation of 8.80, although this could be skewed by abundance of short turns indicating confirmation (e.g., \"ok\"). \n",
    "- **Participant**:\n",
    "    - Some participants were noticeably more chatty than others, other this could be affected by the maps they used, as well as their interpersonal relationship. The mean number of turns per participant was 55.58.\n",
    "- **Language**:\n",
    "    - The data are currently composed by a majority of English session tokens so it's more appropriate to look at means. Overall it appears that English were slightly longer, with a mean token count of 8.81. Spanish turns had a mean token count of 8.61. \n",
    "- **Lexis**:\n",
    "    - After stripping the frequency distributions of stop words, it appears that the most commonly used words are those used to give directions. Examples from English are \"go\", \"right\", \"left\", and \"around\". Examples from Spanish are \"vas\", \"hacia\", and \"encima\". There are also references to elements from the maps among the most commonly used words, such as \"bridge\", \"map\", and \"tree\". It's also worth noting that the most common words in both languages are equivalent."
   ]
  }
 ],
 "metadata": {
  "kernelspec": {
   "display_name": "Python 3",
   "language": "python",
   "name": "python3"
  },
  "language_info": {
   "codemirror_mode": {
    "name": "ipython",
    "version": 3
   },
   "file_extension": ".py",
   "mimetype": "text/x-python",
   "name": "python",
   "nbconvert_exporter": "python",
   "pygments_lexer": "ipython3",
   "version": "3.8.3"
  }
 },
 "nbformat": 4,
 "nbformat_minor": 4
}
